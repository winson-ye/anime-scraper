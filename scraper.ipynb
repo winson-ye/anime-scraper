{
 "cells": [
  {
   "cell_type": "code",
   "execution_count": 1,
   "metadata": {},
   "outputs": [],
   "source": [
    "import requests"
   ]
  },
  {
   "cell_type": "code",
   "execution_count": 2,
   "metadata": {},
   "outputs": [],
   "source": [
    "def extract_HTML_elements(text):\n",
    "    elements = []\n",
    "    acc = ''\n",
    "    found_tag = False\n",
    "    for char in text:\n",
    "        if char == '>':\n",
    "            acc += char\n",
    "            elements.append(acc)\n",
    "            found_tag = False\n",
    "        elif char == '<':\n",
    "            acc = char\n",
    "            found_tag = True\n",
    "        elif found_tag:\n",
    "            acc += char\n",
    "    return elements"
   ]
  },
  {
   "cell_type": "code",
   "execution_count": 13,
   "metadata": {},
   "outputs": [],
   "source": [
    "def getTop50():\n",
    "    r = requests.get('https://myanimelist.net/topanime.php?type=bypopularity')\n",
    "    elements = extract_HTML_elements(r.text)\n",
    "    counter = 0\n",
    "    links = []\n",
    "    href_offset = 6\n",
    "    for element in elements:\n",
    "        if element[1] == 'a':\n",
    "            tokens = element.split()\n",
    "            if 'rel' in tokens[-1] and 'href=\"https://myanimelist.net/anime/' in tokens[1]:\n",
    "                counter += 1\n",
    "                links.append(tokens[1][href_offset:-1])\n",
    "    print(\"Collected {} links.\".format(counter))\n",
    "    return links"
   ]
  },
  {
   "cell_type": "code",
   "execution_count": 15,
   "metadata": {},
   "outputs": [
    {
     "name": "stdout",
     "output_type": "stream",
     "text": [
      "Collected 50 links.\n"
     ]
    }
   ],
   "source": [
    "links = getTop50()"
   ]
  },
  {
   "cell_type": "code",
   "execution_count": 17,
   "metadata": {},
   "outputs": [],
   "source": [
    "with open('top50_anime.txt', 'w') as f:\n",
    "    for link in links:\n",
    "        f.write(\"{}\\n\".format(link))"
   ]
  },
  {
   "cell_type": "code",
   "execution_count": null,
   "metadata": {},
   "outputs": [],
   "source": []
  }
 ],
 "metadata": {
  "kernelspec": {
   "display_name": "Python 3",
   "language": "python",
   "name": "python3"
  },
  "language_info": {
   "codemirror_mode": {
    "name": "ipython",
    "version": 3
   },
   "file_extension": ".py",
   "mimetype": "text/x-python",
   "name": "python",
   "nbconvert_exporter": "python",
   "pygments_lexer": "ipython3",
   "version": "3.7.6"
  }
 },
 "nbformat": 4,
 "nbformat_minor": 4
}
